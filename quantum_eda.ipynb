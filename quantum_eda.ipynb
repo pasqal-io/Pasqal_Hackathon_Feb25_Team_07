{
 "cells": [
  {
   "cell_type": "code",
   "execution_count": null,
   "metadata": {},
   "outputs": [],
   "source": [
    "import os\n",
    "\n",
    "from codecarbon import EmissionsTracker\n",
    "import matplotlib.pyplot as plt\n",
    "import numpy as np\n",
    "import pandas as pd\n",
    "from qadence import (\n",
    "    FeatureParameter,\n",
    "    RY,\n",
    "    RZ,\n",
    "    chain,\n",
    "    QuantumCircuit,\n",
    "    Z,\n",
    "    QNN,\n",
    "    VariationalParameter,\n",
    "    CNOT,\n",
    ")\n",
    "from sklearn.metrics import accuracy_score\n",
    "from sklearn.metrics import mean_absolute_percentage_error as mape\n",
    "import torch\n",
    "from torch.utils.data import TensorDataset, DataLoader\n",
    "import wandb\n",
    "from wandc.emissions_logger import log_emissions\n",
    "from qadence.draw import display as g_display\n",
    "from scipy.optimize import curve_fit"
   ]
  },
  {
   "cell_type": "markdown",
   "metadata": {},
   "source": [
    "### QNN vs NN on Electricity Grid Data\n",
    "\n",
    "This notebook is split up into the following sections:\n",
    "\n",
    "1) Dataset Creation\n",
    "2) Model Creation\n",
    "3) Training\n",
    "4) Classical Comparison\n",
    "\n",
    "Our data looks like:\n",
    "\n",
    "```features = [overall_demand, gen_1_price, gen_1_max_power, gen_1_quad_price, ... gen_n]```\n",
    "\n",
    "```binary targets = [gen_1_active, gen_2_active, gen_3_active, , ... gen_n]```\n",
    "\n",
    "```X = [25, 8, 15, 6, ... gen_n]```\n",
    "\n",
    "```y = [1, 0, 1]```"
   ]
  },
  {
   "cell_type": "code",
   "execution_count": null,
   "metadata": {},
   "outputs": [],
   "source": [
    "ds = pd.read_csv(\"../data/classical_1000_scenarios_gens_3.csv\")\n",
    "display(ds)"
   ]
  },
  {
   "cell_type": "markdown",
   "metadata": {},
   "source": [
    "### 1) Dataset Creation"
   ]
  },
  {
   "cell_type": "code",
   "execution_count": 2,
   "metadata": {},
   "outputs": [
    {
     "name": "stdout",
     "output_type": "stream",
     "text": [
      "(1000, 13)\n",
      "X: (1000, 10), y: (1000, 3)\n",
      "Num targs: 3\n",
      "[[0.47945205 0.77777778 0.11111111 ... 1.         0.33333333 1.        ]\n",
      " [0.09589041 0.44444444 0.88888889 ... 0.11111111 0.33333333 0.37931034]\n",
      " [0.63013699 0.77777778 0.77777778 ... 0.22222222 0.88888889 0.62068966]\n",
      " ...\n",
      " [0.21917808 0.44444444 0.11111111 ... 0.22222222 0.88888889 0.        ]\n",
      " [0.16438356 0.11111111 0.22222222 ... 0.         1.         0.55172414]\n",
      " [0.49315068 0.33333333 0.66666667 ... 0.11111111 0.11111111 0.37931034]] [[12. 13.  9.]\n",
      " [ 0.  5.  2.]\n",
      " [25.  3. 19.]\n",
      " ...\n",
      " [10.  5.  1.]\n",
      " [ 4.  1.  6.]\n",
      " [10. 14. 12.]]\n"
     ]
    }
   ],
   "source": [
    "def load_full_ds():\n",
    "    ds = pd.read_csv(\"../data/classical_1000_scenarios_gens_3.csv\")\n",
    "    ds = ds.drop(columns=[\"scenario\", \"Unnamed: 0\"])\n",
    "    ds = ds.sample(frac=1)\n",
    "    print(ds.shape)\n",
    "    num_gens = [col for col in ds.columns if \"solution_gen\" in col]\n",
    "    target_cols = [f\"solution_gen_{i}\" for i in range(len(num_gens))]\n",
    "    feat_cols = [col for col in ds.columns if col not in target_cols]\n",
    "    X, y = ds[feat_cols].to_numpy() * 1.0, ds[target_cols].to_numpy() * 1.0\n",
    "    return X, y, feat_cols, target_cols\n",
    "\n",
    "\n",
    "def create_dummy_ds():\n",
    "    X = torch.randint(0, 2, (1000, 3), dtype=torch.float64)\n",
    "    y = (X.sum(dim=1) * 1.0).unsqueeze(1)\n",
    "\n",
    "    print(f\"Sample from X: {X[:1]}\", f\"Sample from y: {y[:1]}\")\n",
    "    return (\n",
    "        X,\n",
    "        y,\n",
    "    )\n",
    "\n",
    "\n",
    "dummy = False\n",
    "\n",
    "if not dummy:\n",
    "    X, y, feat_cols, target_cols = load_full_ds()\n",
    "    print(f\"X: {X.shape}, y: {y.shape}\")\n",
    "else:\n",
    "    X, y = create_dummy_ds()\n",
    "    print(f\"X: {X.shape}, y: {y.shape}\")\n",
    "\n",
    "NUM_FEATURES = X.shape[1]\n",
    "NUM_SCENARIOS = X.shape[0]\n",
    "NUM_TARGETS = y.shape[1]  # TODO: reduce number of generators\n",
    "\n",
    "print(f\"Num targs: {NUM_TARGETS}\")\n",
    "\n",
    "\n",
    "def preprocessing(dataset: np.array):\n",
    "    from sklearn.preprocessing import MinMaxScaler, StandardScaler\n",
    "\n",
    "    standard_scale = False\n",
    "\n",
    "    if standard_scale:\n",
    "        scaler = StandardScaler()\n",
    "        X_scaled = scaler.fit_transform(dataset)\n",
    "    else:\n",
    "        scaler = MinMaxScaler(feature_range=(0, 1))\n",
    "        X_scaled = scaler.fit_transform(dataset)\n",
    "    return X_scaled\n",
    "\n",
    "\n",
    "if not dummy:\n",
    "    X = preprocessing(X)\n",
    "\n",
    "\n",
    "def prepare_dataset_and_loaders(X, y, train_split=0.7, batch_size=1):\n",
    "    train_inputs, train_outputs = (\n",
    "        X[: int(train_split * len(X))],\n",
    "        y[: int(train_split * len(y))],\n",
    "    )\n",
    "    val_inputs, val_outputs = (\n",
    "        X[int(train_split * len(X)) :],\n",
    "        y[int(train_split * len(y)) :],\n",
    "    )\n",
    "    print(train_inputs, train_outputs)\n",
    "    train_dataset = TensorDataset(\n",
    "        torch.tensor(train_inputs), torch.tensor(train_outputs)\n",
    "    )\n",
    "    validation_dataset = TensorDataset(\n",
    "        torch.tensor(val_inputs), torch.tensor(val_outputs)\n",
    "    )\n",
    "    train_loader = DataLoader(train_dataset, batch_size=batch_size, shuffle=True)\n",
    "    val_loader = DataLoader(validation_dataset)\n",
    "    return train_loader, val_loader\n",
    "\n",
    "dummy = False\n",
    "train_loader, val_loader = prepare_dataset_and_loaders(X, y, batch_size=32)"
   ]
  },
  {
   "cell_type": "markdown",
   "metadata": {},
   "source": [
    "### 2) QNN Model Construction"
   ]
  },
  {
   "cell_type": "code",
   "execution_count": 22,
   "metadata": {},
   "outputs": [
    {
     "data": {
      "text/plain": [
       "'QNN trainable params: 243'"
      ]
     },
     "metadata": {},
     "output_type": "display_data"
    }
   ],
   "source": [
    "# Make Feature block\n",
    "def build_model(num_layers: int = 3, num_qubits: int = 10, dummy=False):\n",
    "\n",
    "    def _make_feature_block():\n",
    "        feature_params = [FeatureParameter(f\"feature_{i}\") for i in range(NUM_FEATURES)]\n",
    "\n",
    "        blocks = []\n",
    "\n",
    "        for feat_idx, feat in enumerate(feature_params):\n",
    "            # Convert a real feature value into a qubit angle, encoding it into quantum state.\n",
    "            qubit_idx = feat_idx % num_qubits\n",
    "            blocks.append(RY(qubit_idx, feat))\n",
    "\n",
    "        feature_block = chain(*blocks)\n",
    "        return feature_block\n",
    "\n",
    "    feature_block = _make_feature_block()\n",
    "\n",
    "    # Make Ansatz Block\n",
    "\n",
    "    # check QNN vs NN param count\n",
    "    # TODO: explore HEA (Qadence docs)\n",
    "\n",
    "    def _build_one_layer(layer_idx: int):\n",
    "        subblocks_for_one_layer = []\n",
    "\n",
    "        for i in range(num_qubits):\n",
    "            alpha1 = VariationalParameter(\n",
    "                f\"alpha_1_{i}_{layer_idx}\", init_value=np.random.uniform(-0.05, 0.05)\n",
    "            )\n",
    "            beta1 = VariationalParameter(\n",
    "                f\"beta_1_{i}_{layer_idx}\", init_value=np.random.uniform(-0.05, 0.05)\n",
    "            )\n",
    "            kappa1 = VariationalParameter(\n",
    "                f\"kappa_1_{i}_{layer_idx}\", init_value=np.random.uniform(-0.05, 0.05)\n",
    "            )\n",
    "            delta1 = VariationalParameter(\n",
    "                f\"delta_1_{i}_{layer_idx}\", init_value=np.random.uniform(-0.05, 0.05)\n",
    "            )\n",
    "\n",
    "            subblocks_for_one_layer.append(\n",
    "                chain(\n",
    "                    CNOT(\n",
    "                        i, (i + 1) % num_qubits\n",
    "                    ),  # TODO: explore different order of CNOT and RY\n",
    "                    RY(i, alpha1),\n",
    "                    RZ(i, kappa1),\n",
    "                    CNOT((i + 1) % num_qubits, i),\n",
    "                    RY(i, beta1),\n",
    "                    RZ(i, delta1),\n",
    "                )\n",
    "            )\n",
    "\n",
    "        layer = chain(*subblocks_for_one_layer)\n",
    "        return layer\n",
    "\n",
    "    def _construct_ansatz_component(num_layers: int):\n",
    "        layers = [_build_one_layer(i) for i in range(num_layers)]\n",
    "        return chain(*layers)\n",
    "\n",
    "    ansatz_block = _construct_ansatz_component(num_layers)\n",
    "\n",
    "    # Combine Feature and Ansataz block and create model.\n",
    "    full_block = chain(feature_block, ansatz_block, feature_block, ansatz_block)\n",
    "    circuit = QuantumCircuit(num_qubits, full_block)\n",
    "    inputs = [f\"feature_{i}\" for i in range(NUM_FEATURES)]\n",
    "\n",
    "    # Encode array of scalar values that will act as our target.\n",
    "    #\n",
    "    # Try out multiplying the observable to increase the range of the achievable predictions.\n",
    "    #\n",
    "    multiplier = True\n",
    "\n",
    "    if dummy:\n",
    "        observable = sum(Z(i) for i in range(num_qubits))\n",
    "    else:\n",
    "        if multiplier:\n",
    "            params = [\n",
    "                VariationalParameter(f\"scale_obs_{i}\") for i in range(NUM_TARGETS)\n",
    "            ]\n",
    "            observable = [\n",
    "                param * Z(i) for (param, i) in zip(params, range(NUM_TARGETS))\n",
    "            ]\n",
    "\n",
    "            # observable looks like [a0 * Z(0), a1 * Z(1), a2 * Z(0)]\n",
    "        else:\n",
    "            a1 = VariationalParameter(\"scale_obs_1\")\n",
    "            observable = [a1 * Z(i) for i in range(NUM_TARGETS)]\n",
    "\n",
    "    qnn = QNN(circuit, observable, inputs=inputs)\n",
    "\n",
    "    display(f\"QNN trainable params: {qnn.num_vparams}\")\n",
    "    return qnn\n",
    "\n",
    "qnn = build_model(num_layers=5, num_qubits=12, dummy=False)"
   ]
  },
  {
   "cell_type": "markdown",
   "metadata": {},
   "source": [
    "### 3) Model Training"
   ]
  },
  {
   "cell_type": "code",
   "execution_count": 5,
   "metadata": {},
   "outputs": [],
   "source": [
    "def train(model, epochs=10, num_layers=8, num_qubits=8, name=\"qnn\"):\n",
    "\n",
    "    model.train()\n",
    "\n",
    "    loss_function = torch.nn.MSELoss()\n",
    "    optimizer = torch.optim.Adam(model.parameters(), lr=4e-2)\n",
    "\n",
    "    performance = []\n",
    "    total_emissions = 0\n",
    "\n",
    "    wandb_id = wandb.util.generate_id()\n",
    "    wandb.init(\n",
    "        project=\"pasqal-challenge\",\n",
    "        id=wandb_id,\n",
    "        name=f\"{name}_{num_qubits}_qubits_{num_layers}_layers\",\n",
    "    )\n",
    "    tracker = EmissionsTracker(allow_multiple_runs=True, log_level=\"critical\")\n",
    "\n",
    "    for epoch in range(epochs):\n",
    "        tracker.start()\n",
    "        total_loss = 0\n",
    "        for i, (x_batch, y_batch) in enumerate(train_loader):\n",
    "\n",
    "            if i > 10:\n",
    "                continue\n",
    "\n",
    "            # QNN expects x_batch shape [batch_size, NUM_FEATURES]\n",
    "            y_pred = model(x_batch)\n",
    "\n",
    "            # Target shape is [batch_size, NUM_TARGETS]\n",
    "            loss = loss_function(y_pred, y_batch)\n",
    "\n",
    "            optimizer.zero_grad()\n",
    "            loss.backward()\n",
    "            optimizer.step()\n",
    "\n",
    "            total_loss += float(loss)\n",
    "        total_loss = total_loss / len(train_loader)\n",
    "        performance.append(total_loss)\n",
    "        print(f\"Epoch {epoch}, Loss: {total_loss:.4f}\")\n",
    "        total_emissions += tracker.stop()\n",
    "        wandb.log({\"train_loss\": total_loss, \"emissions\": total_emissions})\n",
    "\n",
    "    wandb.finish()\n",
    "\n",
    "    return model, performance, total_emissions\n",
    "\n",
    "\n",
    "qnn = build_model(num_layers=5, num_qubits=4)\n",
    "# model, losses, emissions = train(qnn, epochs=10, num_qubits=12)"
   ]
  },
  {
   "cell_type": "code",
   "execution_count": 6,
   "metadata": {},
   "outputs": [
    {
     "name": "stderr",
     "output_type": "stream",
     "text": [
      "\u001b[34m\u001b[1mwandb\u001b[0m: Currently logged in as: \u001b[33md_smit\u001b[0m to \u001b[32mhttps://api.wandb.ai\u001b[0m. Use \u001b[1m`wandb login --relogin`\u001b[0m to force relogin\n",
      "\u001b[34m\u001b[1mwandb\u001b[0m: Using wandb-core as the SDK backend.  Please refer to https://wandb.me/wandb-core for more information.\n"
     ]
    },
    {
     "data": {
      "text/html": [
       "Tracking run with wandb version 0.19.6"
      ],
      "text/plain": [
       "<IPython.core.display.HTML object>"
      ]
     },
     "metadata": {},
     "output_type": "display_data"
    },
    {
     "data": {
      "text/html": [
       "Run data is saved locally in <code>/Users/davidsmith/projects/opf/eda/wandb/run-20250309_203603-dg4fqkkq</code>"
      ],
      "text/plain": [
       "<IPython.core.display.HTML object>"
      ]
     },
     "metadata": {},
     "output_type": "display_data"
    },
    {
     "data": {
      "text/html": [
       "Syncing run <strong><a href='https://wandb.ai/d_smit/pasqal-challenge/runs/dg4fqkkq' target=\"_blank\">qnn_8_qubits_8_layers</a></strong> to <a href='https://wandb.ai/d_smit/pasqal-challenge' target=\"_blank\">Weights & Biases</a> (<a href='https://wandb.me/developer-guide' target=\"_blank\">docs</a>)<br>"
      ],
      "text/plain": [
       "<IPython.core.display.HTML object>"
      ]
     },
     "metadata": {},
     "output_type": "display_data"
    },
    {
     "data": {
      "text/html": [
       " View project at <a href='https://wandb.ai/d_smit/pasqal-challenge' target=\"_blank\">https://wandb.ai/d_smit/pasqal-challenge</a>"
      ],
      "text/plain": [
       "<IPython.core.display.HTML object>"
      ]
     },
     "metadata": {},
     "output_type": "display_data"
    },
    {
     "data": {
      "text/html": [
       " View run at <a href='https://wandb.ai/d_smit/pasqal-challenge/runs/dg4fqkkq' target=\"_blank\">https://wandb.ai/d_smit/pasqal-challenge/runs/dg4fqkkq</a>"
      ],
      "text/plain": [
       "<IPython.core.display.HTML object>"
      ]
     },
     "metadata": {},
     "output_type": "display_data"
    },
    {
     "name": "stderr",
     "output_type": "stream",
     "text": [
      "[codecarbon WARNING @ 20:36:04] Multiple instances of codecarbon are allowed to run at the same time.\n"
     ]
    },
    {
     "name": "stdout",
     "output_type": "stream",
     "text": [
      "Epoch 0, Loss: 48.3661\n",
      "Epoch 1, Loss: 44.0771\n"
     ]
    },
    {
     "data": {
      "text/html": [],
      "text/plain": [
       "<IPython.core.display.HTML object>"
      ]
     },
     "metadata": {},
     "output_type": "display_data"
    },
    {
     "data": {
      "text/html": [
       "<br>    <style><br>        .wandb-row {<br>            display: flex;<br>            flex-direction: row;<br>            flex-wrap: wrap;<br>            justify-content: flex-start;<br>            width: 100%;<br>        }<br>        .wandb-col {<br>            display: flex;<br>            flex-direction: column;<br>            flex-basis: 100%;<br>            flex: 1;<br>            padding: 10px;<br>        }<br>    </style><br><div class=\"wandb-row\"><div class=\"wandb-col\"><h3>Run history:</h3><br/><table class=\"wandb\"><tr><td>emissions</td><td>▁█</td></tr><tr><td>train_loss</td><td>█▁</td></tr></table><br/></div><div class=\"wandb-col\"><h3>Run summary:</h3><br/><table class=\"wandb\"><tr><td>emissions</td><td>4e-05</td></tr><tr><td>train_loss</td><td>44.07709</td></tr></table><br/></div></div>"
      ],
      "text/plain": [
       "<IPython.core.display.HTML object>"
      ]
     },
     "metadata": {},
     "output_type": "display_data"
    },
    {
     "data": {
      "text/html": [
       " View run <strong style=\"color:#cdcd00\">qnn_8_qubits_8_layers</strong> at: <a href='https://wandb.ai/d_smit/pasqal-challenge/runs/dg4fqkkq' target=\"_blank\">https://wandb.ai/d_smit/pasqal-challenge/runs/dg4fqkkq</a><br> View project at: <a href='https://wandb.ai/d_smit/pasqal-challenge' target=\"_blank\">https://wandb.ai/d_smit/pasqal-challenge</a><br>Synced 5 W&B file(s), 0 media file(s), 0 artifact file(s) and 0 other file(s)"
      ],
      "text/plain": [
       "<IPython.core.display.HTML object>"
      ]
     },
     "metadata": {},
     "output_type": "display_data"
    },
    {
     "data": {
      "text/html": [
       "Find logs at: <code>./wandb/run-20250309_203603-dg4fqkkq/logs</code>"
      ],
      "text/plain": [
       "<IPython.core.display.HTML object>"
      ]
     },
     "metadata": {},
     "output_type": "display_data"
    }
   ],
   "source": [
    "qnn = build_model(num_layers=25, num_qubits=6)\n",
    "model, losses, emissions = train(qnn, epochs=2)"
   ]
  },
  {
   "cell_type": "code",
   "execution_count": 7,
   "metadata": {},
   "outputs": [
    {
     "name": "stdout",
     "output_type": "stream",
     "text": [
      "[0.80874642 1.15710327] [9. 5.]\n",
      "MAPE: 6.2000930025394885\n",
      "{'name': 'qnn_12', 'mape': 6.2, 'mae': 6.377}\n"
     ]
    }
   ],
   "source": [
    "from sklearn.metrics import mean_absolute_error\n",
    "\n",
    "def eval_model(model, name=\"qnn_12\"):\n",
    "    model.eval()\n",
    "    preds = []\n",
    "    actuals = []\n",
    "    with torch.no_grad():\n",
    "        for x_batch, y_batch in val_loader:\n",
    "            preds_out = model(x_batch)\n",
    "            preds.append(preds_out[0].numpy())\n",
    "            actuals.append(y_batch[0].numpy())\n",
    "\n",
    "    preds_concat = np.concatenate(preds, axis=0)\n",
    "    actuals_concat = np.concatenate(actuals, axis=0)\n",
    "    print(preds_concat[:2], actuals_concat[:2])\n",
    "    mape_val = mape(preds_concat, actuals_concat)\n",
    "    mae = mean_absolute_error(preds_concat, actuals_concat)\n",
    "\n",
    "    print(f\"MAPE: {mape_val}\")\n",
    "\n",
    "    return {\"name\": name, \"mape\": round(mape_val, 3), \"mae\" : round(mae, 3)}\n",
    "\n",
    "\n",
    "perf_dict = eval_model(qnn)\n",
    "print(perf_dict)"
   ]
  },
  {
   "cell_type": "code",
   "execution_count": null,
   "metadata": {},
   "outputs": [],
   "source": [
    "for name, param in qnn.named_parameters():\n",
    "    if param.grad is not None:\n",
    "        print(name, param.grad.norm().item())"
   ]
  },
  {
   "cell_type": "code",
   "execution_count": null,
   "metadata": {},
   "outputs": [],
   "source": [
    "def plot_training_performance(losses: list[float], y_lim=0.8, title=\"\"):\n",
    "    # losses = [loss.item() for loss in losses]\n",
    "    fig = plt.figure(figsize=(8, 6))\n",
    "    plt.rcParams[\"lines.markersize\"] = 1\n",
    "    plt.plot(losses, marker=\"o\", label=\"Loss\")\n",
    "    plt.ylim(0, y_lim)\n",
    "    plt.xlabel(\"Epoch\")\n",
    "    plt.ylabel(\"Loss\")\n",
    "    plt.title(f\" {title} Training Loss Over {len(losses)} Epochs\")\n",
    "    plt.grid(True)\n",
    "    plt.legend()\n",
    "    plt.show()\n",
    "\n",
    "\n",
    "plot_training_performance(losses, title=\"QNN\", y_lim=100)"
   ]
  },
  {
   "cell_type": "code",
   "execution_count": null,
   "metadata": {},
   "outputs": [],
   "source": [
    "qnn = build_model(num_layers=5, num_qubits=12)"
   ]
  },
  {
   "cell_type": "code",
   "execution_count": 8,
   "metadata": {},
   "outputs": [
    {
     "ename": "ValueError",
     "evalue": "Cannot visualize QuantumModel with more than one observable.",
     "output_type": "error",
     "traceback": [
      "\u001b[0;31m---------------------------------------------------------------------------\u001b[0m",
      "\u001b[0;31mValueError\u001b[0m                                Traceback (most recent call last)",
      "Cell \u001b[0;32mIn[8], line 3\u001b[0m\n\u001b[1;32m      1\u001b[0m \u001b[38;5;28;01mfrom\u001b[39;00m\u001b[38;5;250m \u001b[39m\u001b[38;5;21;01mqadence\u001b[39;00m\u001b[38;5;21;01m.\u001b[39;00m\u001b[38;5;21;01mdraw\u001b[39;00m\u001b[38;5;250m \u001b[39m\u001b[38;5;28;01mimport\u001b[39;00m display \u001b[38;5;28;01mas\u001b[39;00m g_display\n\u001b[0;32m----> 3\u001b[0m \u001b[43mg_display\u001b[49m\u001b[43m(\u001b[49m\u001b[43mqnn\u001b[49m\u001b[43m)\u001b[49m\n",
      "File \u001b[0;32m~/projects/opf/.venv/lib/python3.10/site-packages/qadence/draw/__init__.py:45\u001b[0m, in \u001b[0;36mdisplay\u001b[0;34m(x, qcd, layout, theme, fill, **kwargs)\u001b[0m\n\u001b[1;32m     13\u001b[0m \u001b[38;5;28;01mdef\u001b[39;00m\u001b[38;5;250m \u001b[39m\u001b[38;5;21mdisplay\u001b[39m(\n\u001b[1;32m     14\u001b[0m     x: Any,\n\u001b[1;32m     15\u001b[0m     qcd: QuantumCircuitDiagram \u001b[38;5;241m|\u001b[39m Cluster \u001b[38;5;241m|\u001b[39m \u001b[38;5;28;01mNone\u001b[39;00m \u001b[38;5;241m=\u001b[39m \u001b[38;5;28;01mNone\u001b[39;00m,\n\u001b[0;32m   (...)\u001b[0m\n\u001b[1;32m     19\u001b[0m     \u001b[38;5;241m*\u001b[39m\u001b[38;5;241m*\u001b[39mkwargs: Any,\n\u001b[1;32m     20\u001b[0m ) \u001b[38;5;241m-\u001b[39m\u001b[38;5;241m>\u001b[39m Graph:\n\u001b[1;32m     21\u001b[0m \u001b[38;5;250m    \u001b[39m\u001b[38;5;124;03m\"\"\"Display a block, circuit, or quantum model.\u001b[39;00m\n\u001b[1;32m     22\u001b[0m \n\u001b[1;32m     23\u001b[0m \u001b[38;5;124;03m    The `kwargs` are forwarded to\u001b[39;00m\n\u001b[0;32m   (...)\u001b[0m\n\u001b[1;32m     43\u001b[0m \u001b[38;5;124;03m    ```\u001b[39;00m\n\u001b[1;32m     44\u001b[0m \u001b[38;5;124;03m    \"\"\"\u001b[39;00m\n\u001b[0;32m---> 45\u001b[0m     \u001b[38;5;28;01mreturn\u001b[39;00m \u001b[43mmake_diagram\u001b[49m\u001b[43m(\u001b[49m\u001b[43mx\u001b[49m\u001b[43m,\u001b[49m\u001b[43m \u001b[49m\u001b[38;5;241;43m*\u001b[39;49m\u001b[38;5;241;43m*\u001b[39;49m\u001b[43mkwargs\u001b[49m\u001b[43m)\u001b[49m\u001b[38;5;241m.\u001b[39mshow()\n",
      "File \u001b[0;32m~/.pyenv/versions/3.10.15/lib/python3.10/functools.py:889\u001b[0m, in \u001b[0;36msingledispatch.<locals>.wrapper\u001b[0;34m(*args, **kw)\u001b[0m\n\u001b[1;32m    885\u001b[0m \u001b[38;5;28;01mif\u001b[39;00m \u001b[38;5;129;01mnot\u001b[39;00m args:\n\u001b[1;32m    886\u001b[0m     \u001b[38;5;28;01mraise\u001b[39;00m \u001b[38;5;167;01mTypeError\u001b[39;00m(\u001b[38;5;124mf\u001b[39m\u001b[38;5;124m'\u001b[39m\u001b[38;5;132;01m{\u001b[39;00mfuncname\u001b[38;5;132;01m}\u001b[39;00m\u001b[38;5;124m requires at least \u001b[39m\u001b[38;5;124m'\u001b[39m\n\u001b[1;32m    887\u001b[0m                     \u001b[38;5;124m'\u001b[39m\u001b[38;5;124m1 positional argument\u001b[39m\u001b[38;5;124m'\u001b[39m)\n\u001b[0;32m--> 889\u001b[0m \u001b[38;5;28;01mreturn\u001b[39;00m \u001b[43mdispatch\u001b[49m\u001b[43m(\u001b[49m\u001b[43margs\u001b[49m\u001b[43m[\u001b[49m\u001b[38;5;241;43m0\u001b[39;49m\u001b[43m]\u001b[49m\u001b[38;5;241;43m.\u001b[39;49m\u001b[38;5;18;43m__class__\u001b[39;49m\u001b[43m)\u001b[49m\u001b[43m(\u001b[49m\u001b[38;5;241;43m*\u001b[39;49m\u001b[43margs\u001b[49m\u001b[43m,\u001b[49m\u001b[43m \u001b[49m\u001b[38;5;241;43m*\u001b[39;49m\u001b[38;5;241;43m*\u001b[39;49m\u001b[43mkw\u001b[49m\u001b[43m)\u001b[49m\n",
      "File \u001b[0;32m~/projects/opf/.venv/lib/python3.10/site-packages/qadence/draw/utils.py:147\u001b[0m, in \u001b[0;36m_\u001b[0;34m(model, *args, **kwargs)\u001b[0m\n\u001b[1;32m    145\u001b[0m \u001b[38;5;28;01mif\u001b[39;00m model\u001b[38;5;241m.\u001b[39mout_features \u001b[38;5;129;01mis\u001b[39;00m \u001b[38;5;129;01mnot\u001b[39;00m \u001b[38;5;28;01mNone\u001b[39;00m:\n\u001b[1;32m    146\u001b[0m     \u001b[38;5;28;01mif\u001b[39;00m model\u001b[38;5;241m.\u001b[39mout_features \u001b[38;5;241m>\u001b[39m \u001b[38;5;241m1\u001b[39m:\n\u001b[0;32m--> 147\u001b[0m         \u001b[38;5;28;01mraise\u001b[39;00m \u001b[38;5;167;01mValueError\u001b[39;00m(\u001b[38;5;124m\"\u001b[39m\u001b[38;5;124mCannot visualize QuantumModel with more than one observable.\u001b[39m\u001b[38;5;124m\"\u001b[39m)\n\u001b[1;32m    149\u001b[0m     obs \u001b[38;5;241m=\u001b[39m deepcopy(model\u001b[38;5;241m.\u001b[39m_observable[\u001b[38;5;241m0\u001b[39m]\u001b[38;5;241m.\u001b[39moriginal)  \u001b[38;5;66;03m# type: ignore [index]\u001b[39;00m\n\u001b[1;32m    150\u001b[0m     obs\u001b[38;5;241m.\u001b[39mtag \u001b[38;5;241m=\u001b[39m \u001b[38;5;124m\"\u001b[39m\u001b[38;5;124mObs.\u001b[39m\u001b[38;5;124m\"\u001b[39m\n",
      "\u001b[0;31mValueError\u001b[0m: Cannot visualize QuantumModel with more than one observable."
     ]
    }
   ],
   "source": [
    "from qadence.draw import display as g_display\n",
    "\n",
    "g_display(qnn)"
   ]
  },
  {
   "cell_type": "code",
   "execution_count": 18,
   "metadata": {},
   "outputs": [],
   "source": [
    "num_qubits=12\n",
    "qnn = build_model(num_layers=5, num_qubits=12)\n",
    "qnn_model, losses, emissions = train(\n",
    "    model=qnn, epochs=50, num_qubits=num_qubits, num_layers=5\n",
    ")\n",
    "perf = eval_model(qnn_model)\n",
    "perf[\"loss\"] = losses\n",
    "perf[\"emissions\"] = emissions\n",
    "with open(f\"{num_qubits}_qnn.json\", \"w\") as f:\n",
    "    import json\n",
    "    json.dump(perf, f)"
   ]
  },
  {
   "cell_type": "code",
   "execution_count": 19,
   "metadata": {},
   "outputs": [
    {
     "data": {
      "text/html": [
       "Tracking run with wandb version 0.19.6"
      ],
      "text/plain": [
       "<IPython.core.display.HTML object>"
      ]
     },
     "metadata": {},
     "output_type": "display_data"
    },
    {
     "data": {
      "text/html": [
       "Run data is saved locally in <code>/Users/davidsmith/projects/opf/eda/wandb/run-20250309_205047-qrjh75hy</code>"
      ],
      "text/plain": [
       "<IPython.core.display.HTML object>"
      ]
     },
     "metadata": {},
     "output_type": "display_data"
    },
    {
     "data": {
      "text/html": [
       "Syncing run <strong><a href='https://wandb.ai/d_smit/pasqal-challenge/runs/qrjh75hy' target=\"_blank\">qnn_12_qubits_5_layers</a></strong> to <a href='https://wandb.ai/d_smit/pasqal-challenge' target=\"_blank\">Weights & Biases</a> (<a href='https://wandb.me/developer-guide' target=\"_blank\">docs</a>)<br>"
      ],
      "text/plain": [
       "<IPython.core.display.HTML object>"
      ]
     },
     "metadata": {},
     "output_type": "display_data"
    },
    {
     "data": {
      "text/html": [
       " View project at <a href='https://wandb.ai/d_smit/pasqal-challenge' target=\"_blank\">https://wandb.ai/d_smit/pasqal-challenge</a>"
      ],
      "text/plain": [
       "<IPython.core.display.HTML object>"
      ]
     },
     "metadata": {},
     "output_type": "display_data"
    },
    {
     "data": {
      "text/html": [
       " View run at <a href='https://wandb.ai/d_smit/pasqal-challenge/runs/qrjh75hy' target=\"_blank\">https://wandb.ai/d_smit/pasqal-challenge/runs/qrjh75hy</a>"
      ],
      "text/plain": [
       "<IPython.core.display.HTML object>"
      ]
     },
     "metadata": {},
     "output_type": "display_data"
    },
    {
     "name": "stdout",
     "output_type": "stream",
     "text": [
      "Epoch 0, Loss: 52.2158\n",
      "Epoch 1, Loss: 46.5610\n",
      "Epoch 2, Loss: 43.1749\n",
      "Epoch 3, Loss: 39.5252\n",
      "Epoch 4, Loss: 37.4492\n",
      "Epoch 5, Loss: 31.7367\n",
      "Epoch 6, Loss: 35.4406\n",
      "Epoch 7, Loss: 30.2654\n",
      "Epoch 8, Loss: 31.7357\n",
      "Epoch 9, Loss: 28.4060\n",
      "Epoch 10, Loss: 26.8809\n",
      "Epoch 11, Loss: 26.7283\n",
      "Epoch 12, Loss: 24.2546\n",
      "Epoch 13, Loss: 25.4832\n",
      "Epoch 14, Loss: 24.3132\n",
      "Epoch 15, Loss: 21.9750\n",
      "Epoch 16, Loss: 22.4395\n",
      "Epoch 17, Loss: 24.0590\n",
      "Epoch 18, Loss: 22.5319\n",
      "Epoch 19, Loss: 20.9194\n",
      "Epoch 20, Loss: 20.4784\n",
      "Epoch 21, Loss: 19.9856\n",
      "Epoch 22, Loss: 19.8193\n",
      "Epoch 23, Loss: 20.6450\n",
      "Epoch 24, Loss: 21.5133\n",
      "Epoch 25, Loss: 19.5985\n",
      "Epoch 26, Loss: 20.9856\n",
      "Epoch 27, Loss: 18.5631\n",
      "Epoch 28, Loss: 19.1969\n",
      "Epoch 29, Loss: 18.7793\n",
      "Epoch 30, Loss: 17.5911\n",
      "Epoch 31, Loss: 18.3725\n",
      "Epoch 32, Loss: 18.3338\n",
      "Epoch 33, Loss: 16.6502\n",
      "Epoch 34, Loss: 15.8779\n",
      "Epoch 35, Loss: 17.4103\n",
      "Epoch 36, Loss: 15.1959\n",
      "Epoch 37, Loss: 14.9794\n",
      "Epoch 38, Loss: 15.1292\n",
      "Epoch 39, Loss: 14.3961\n",
      "Epoch 40, Loss: 13.4550\n",
      "Epoch 41, Loss: 15.0370\n",
      "Epoch 42, Loss: 14.2202\n",
      "Epoch 43, Loss: 14.1111\n",
      "Epoch 44, Loss: 14.2090\n",
      "Epoch 45, Loss: 14.4455\n",
      "Epoch 46, Loss: 13.2851\n",
      "Epoch 47, Loss: 14.2295\n",
      "Epoch 48, Loss: 13.7390\n",
      "Epoch 49, Loss: 12.2277\n"
     ]
    },
    {
     "data": {
      "text/html": [],
      "text/plain": [
       "<IPython.core.display.HTML object>"
      ]
     },
     "metadata": {},
     "output_type": "display_data"
    },
    {
     "data": {
      "text/html": [
       "<br>    <style><br>        .wandb-row {<br>            display: flex;<br>            flex-direction: row;<br>            flex-wrap: wrap;<br>            justify-content: flex-start;<br>            width: 100%;<br>        }<br>        .wandb-col {<br>            display: flex;<br>            flex-direction: column;<br>            flex-basis: 100%;<br>            flex: 1;<br>            padding: 10px;<br>        }<br>    </style><br><div class=\"wandb-row\"><div class=\"wandb-col\"><h3>Run history:</h3><br/><table class=\"wandb\"><tr><td>emissions</td><td>▁▁▁▁▁▁▁▁▁▁▂▂▂▂▂▂▂▂▃▃▃▃▃▃▄▄▄▄▅▅▅▅▆▆▆▇▇▇▇█</td></tr><tr><td>train_loss</td><td>█▇▆▆▅▅▄▄▄▄▃▃▃▃▃▃▃▂▂▂▃▂▃▂▂▂▂▂▂▂▁▂▁▁▁▁▁▁▁▁</td></tr></table><br/></div><div class=\"wandb-col\"><h3>Run summary:</h3><br/><table class=\"wandb\"><tr><td>emissions</td><td>0.08759</td></tr><tr><td>train_loss</td><td>12.22765</td></tr></table><br/></div></div>"
      ],
      "text/plain": [
       "<IPython.core.display.HTML object>"
      ]
     },
     "metadata": {},
     "output_type": "display_data"
    },
    {
     "data": {
      "text/html": [
       " View run <strong style=\"color:#cdcd00\">qnn_12_qubits_5_layers</strong> at: <a href='https://wandb.ai/d_smit/pasqal-challenge/runs/qrjh75hy' target=\"_blank\">https://wandb.ai/d_smit/pasqal-challenge/runs/qrjh75hy</a><br> View project at: <a href='https://wandb.ai/d_smit/pasqal-challenge' target=\"_blank\">https://wandb.ai/d_smit/pasqal-challenge</a><br>Synced 5 W&B file(s), 0 media file(s), 0 artifact file(s) and 0 other file(s)"
      ],
      "text/plain": [
       "<IPython.core.display.HTML object>"
      ]
     },
     "metadata": {},
     "output_type": "display_data"
    },
    {
     "data": {
      "text/html": [
       "Find logs at: <code>./wandb/run-20250309_205047-qrjh75hy/logs</code>"
      ],
      "text/plain": [
       "<IPython.core.display.HTML object>"
      ]
     },
     "metadata": {},
     "output_type": "display_data"
    },
    {
     "name": "stdout",
     "output_type": "stream",
     "text": [
      "[7.23998503 6.13246384] [9. 5.]\n",
      "MAPE: 0.5786401478023864\n"
     ]
    },
    {
     "data": {
      "text/html": [
       "Tracking run with wandb version 0.19.6"
      ],
      "text/plain": [
       "<IPython.core.display.HTML object>"
      ]
     },
     "metadata": {},
     "output_type": "display_data"
    },
    {
     "data": {
      "text/html": [
       "Run data is saved locally in <code>/Users/davidsmith/projects/opf/eda/wandb/run-20250309_211002-uxfkt0p1</code>"
      ],
      "text/plain": [
       "<IPython.core.display.HTML object>"
      ]
     },
     "metadata": {},
     "output_type": "display_data"
    },
    {
     "data": {
      "text/html": [
       "Syncing run <strong><a href='https://wandb.ai/d_smit/pasqal-challenge/runs/uxfkt0p1' target=\"_blank\">qnn_4_qubits_5_layers</a></strong> to <a href='https://wandb.ai/d_smit/pasqal-challenge' target=\"_blank\">Weights & Biases</a> (<a href='https://wandb.me/developer-guide' target=\"_blank\">docs</a>)<br>"
      ],
      "text/plain": [
       "<IPython.core.display.HTML object>"
      ]
     },
     "metadata": {},
     "output_type": "display_data"
    },
    {
     "data": {
      "text/html": [
       " View project at <a href='https://wandb.ai/d_smit/pasqal-challenge' target=\"_blank\">https://wandb.ai/d_smit/pasqal-challenge</a>"
      ],
      "text/plain": [
       "<IPython.core.display.HTML object>"
      ]
     },
     "metadata": {},
     "output_type": "display_data"
    },
    {
     "data": {
      "text/html": [
       " View run at <a href='https://wandb.ai/d_smit/pasqal-challenge/runs/uxfkt0p1' target=\"_blank\">https://wandb.ai/d_smit/pasqal-challenge/runs/uxfkt0p1</a>"
      ],
      "text/plain": [
       "<IPython.core.display.HTML object>"
      ]
     },
     "metadata": {},
     "output_type": "display_data"
    },
    {
     "name": "stdout",
     "output_type": "stream",
     "text": [
      "Epoch 0, Loss: 50.8920\n",
      "Epoch 1, Loss: 49.0184\n",
      "Epoch 2, Loss: 43.6991\n",
      "Epoch 3, Loss: 42.7110\n",
      "Epoch 4, Loss: 41.6795\n",
      "Epoch 5, Loss: 36.1426\n",
      "Epoch 6, Loss: 35.3781\n",
      "Epoch 7, Loss: 29.9064\n",
      "Epoch 8, Loss: 31.2056\n",
      "Epoch 9, Loss: 29.5585\n",
      "Epoch 10, Loss: 26.2436\n",
      "Epoch 11, Loss: 29.3646\n",
      "Epoch 12, Loss: 25.0626\n",
      "Epoch 13, Loss: 24.9523\n",
      "Epoch 14, Loss: 26.4885\n",
      "Epoch 15, Loss: 24.1147\n",
      "Epoch 16, Loss: 23.8735\n",
      "Epoch 17, Loss: 23.4332\n",
      "Epoch 18, Loss: 24.4718\n",
      "Epoch 19, Loss: 22.3369\n",
      "Epoch 20, Loss: 23.9194\n",
      "Epoch 21, Loss: 23.4756\n",
      "Epoch 22, Loss: 22.2461\n",
      "Epoch 23, Loss: 21.9627\n",
      "Epoch 24, Loss: 24.1571\n",
      "Epoch 25, Loss: 22.5217\n",
      "Epoch 26, Loss: 21.0021\n",
      "Epoch 27, Loss: 21.7358\n",
      "Epoch 28, Loss: 19.7346\n",
      "Epoch 29, Loss: 19.0444\n",
      "Epoch 30, Loss: 22.8050\n",
      "Epoch 31, Loss: 20.0955\n",
      "Epoch 32, Loss: 22.1735\n",
      "Epoch 33, Loss: 20.1629\n",
      "Epoch 34, Loss: 20.5334\n",
      "Epoch 35, Loss: 21.2852\n",
      "Epoch 36, Loss: 20.4279\n",
      "Epoch 37, Loss: 20.9895\n",
      "Epoch 38, Loss: 19.7337\n",
      "Epoch 39, Loss: 19.5952\n",
      "Epoch 40, Loss: 18.2696\n",
      "Epoch 41, Loss: 19.2066\n",
      "Epoch 42, Loss: 19.8159\n",
      "Epoch 43, Loss: 18.8594\n",
      "Epoch 44, Loss: 20.4677\n",
      "Epoch 45, Loss: 19.7214\n",
      "Epoch 46, Loss: 20.5428\n",
      "Epoch 47, Loss: 21.9944\n",
      "Epoch 48, Loss: 20.5648\n",
      "Epoch 49, Loss: 20.3642\n"
     ]
    },
    {
     "data": {
      "text/html": [],
      "text/plain": [
       "<IPython.core.display.HTML object>"
      ]
     },
     "metadata": {},
     "output_type": "display_data"
    },
    {
     "data": {
      "text/html": [
       "<br>    <style><br>        .wandb-row {<br>            display: flex;<br>            flex-direction: row;<br>            flex-wrap: wrap;<br>            justify-content: flex-start;<br>            width: 100%;<br>        }<br>        .wandb-col {<br>            display: flex;<br>            flex-direction: column;<br>            flex-basis: 100%;<br>            flex: 1;<br>            padding: 10px;<br>        }<br>    </style><br><div class=\"wandb-row\"><div class=\"wandb-col\"><h3>Run history:</h3><br/><table class=\"wandb\"><tr><td>emissions</td><td>▁▁▁▁▁▁▁▁▁▂▂▂▂▂▂▂▂▃▃▃▃▃▃▄▄▄▄▅▅▅▅▆▆▆▆▇▇▇▇█</td></tr><tr><td>train_loss</td><td>██▆▆▅▃▄▃▃▃▂▃▂▂▂▂▂▂▂▂▂▂▂▁▁▁▂▁▁▂▂▁▁▁▁▁▁▁▂▁</td></tr></table><br/></div><div class=\"wandb-col\"><h3>Run summary:</h3><br/><table class=\"wandb\"><tr><td>emissions</td><td>0.00216</td></tr><tr><td>train_loss</td><td>20.36424</td></tr></table><br/></div></div>"
      ],
      "text/plain": [
       "<IPython.core.display.HTML object>"
      ]
     },
     "metadata": {},
     "output_type": "display_data"
    },
    {
     "data": {
      "text/html": [
       " View run <strong style=\"color:#cdcd00\">qnn_4_qubits_5_layers</strong> at: <a href='https://wandb.ai/d_smit/pasqal-challenge/runs/uxfkt0p1' target=\"_blank\">https://wandb.ai/d_smit/pasqal-challenge/runs/uxfkt0p1</a><br> View project at: <a href='https://wandb.ai/d_smit/pasqal-challenge' target=\"_blank\">https://wandb.ai/d_smit/pasqal-challenge</a><br>Synced 5 W&B file(s), 0 media file(s), 0 artifact file(s) and 0 other file(s)"
      ],
      "text/plain": [
       "<IPython.core.display.HTML object>"
      ]
     },
     "metadata": {},
     "output_type": "display_data"
    },
    {
     "data": {
      "text/html": [
       "Find logs at: <code>./wandb/run-20250309_211002-uxfkt0p1/logs</code>"
      ],
      "text/plain": [
       "<IPython.core.display.HTML object>"
      ]
     },
     "metadata": {},
     "output_type": "display_data"
    },
    {
     "name": "stdout",
     "output_type": "stream",
     "text": [
      "[10.67960723  8.79189126] [9. 5.]\n",
      "MAPE: 1.0700230181609365\n"
     ]
    },
    {
     "data": {
      "text/html": [
       "Tracking run with wandb version 0.19.6"
      ],
      "text/plain": [
       "<IPython.core.display.HTML object>"
      ]
     },
     "metadata": {},
     "output_type": "display_data"
    },
    {
     "data": {
      "text/html": [
       "Run data is saved locally in <code>/Users/davidsmith/projects/opf/eda/wandb/run-20250309_211039-phoow39w</code>"
      ],
      "text/plain": [
       "<IPython.core.display.HTML object>"
      ]
     },
     "metadata": {},
     "output_type": "display_data"
    },
    {
     "data": {
      "text/html": [
       "Syncing run <strong><a href='https://wandb.ai/d_smit/pasqal-challenge/runs/phoow39w' target=\"_blank\">qnn_8_qubits_5_layers</a></strong> to <a href='https://wandb.ai/d_smit/pasqal-challenge' target=\"_blank\">Weights & Biases</a> (<a href='https://wandb.me/developer-guide' target=\"_blank\">docs</a>)<br>"
      ],
      "text/plain": [
       "<IPython.core.display.HTML object>"
      ]
     },
     "metadata": {},
     "output_type": "display_data"
    },
    {
     "data": {
      "text/html": [
       " View project at <a href='https://wandb.ai/d_smit/pasqal-challenge' target=\"_blank\">https://wandb.ai/d_smit/pasqal-challenge</a>"
      ],
      "text/plain": [
       "<IPython.core.display.HTML object>"
      ]
     },
     "metadata": {},
     "output_type": "display_data"
    },
    {
     "data": {
      "text/html": [
       " View run at <a href='https://wandb.ai/d_smit/pasqal-challenge/runs/phoow39w' target=\"_blank\">https://wandb.ai/d_smit/pasqal-challenge/runs/phoow39w</a>"
      ],
      "text/plain": [
       "<IPython.core.display.HTML object>"
      ]
     },
     "metadata": {},
     "output_type": "display_data"
    },
    {
     "name": "stdout",
     "output_type": "stream",
     "text": [
      "Epoch 0, Loss: 49.5214\n",
      "Epoch 1, Loss: 48.6757\n",
      "Epoch 2, Loss: 47.7184\n",
      "Epoch 3, Loss: 42.8273\n",
      "Epoch 4, Loss: 42.0997\n",
      "Epoch 5, Loss: 37.2617\n",
      "Epoch 6, Loss: 35.9887\n",
      "Epoch 7, Loss: 32.6182\n",
      "Epoch 8, Loss: 32.4096\n",
      "Epoch 9, Loss: 31.1167\n",
      "Epoch 10, Loss: 29.2912\n",
      "Epoch 11, Loss: 27.9747\n",
      "Epoch 12, Loss: 26.5303\n",
      "Epoch 13, Loss: 28.9973\n",
      "Epoch 14, Loss: 25.9838\n",
      "Epoch 15, Loss: 25.2342\n",
      "Epoch 16, Loss: 25.3127\n",
      "Epoch 17, Loss: 25.4688\n",
      "Epoch 18, Loss: 25.3024\n",
      "Epoch 19, Loss: 22.5460\n",
      "Epoch 20, Loss: 21.9807\n",
      "Epoch 21, Loss: 23.3668\n",
      "Epoch 22, Loss: 20.6735\n",
      "Epoch 23, Loss: 21.9643\n",
      "Epoch 24, Loss: 21.0269\n",
      "Epoch 25, Loss: 20.5785\n",
      "Epoch 26, Loss: 20.8015\n",
      "Epoch 27, Loss: 21.8424\n",
      "Epoch 28, Loss: 21.7538\n",
      "Epoch 29, Loss: 19.1266\n",
      "Epoch 30, Loss: 20.7490\n",
      "Epoch 31, Loss: 18.9835\n",
      "Epoch 32, Loss: 20.8470\n",
      "Epoch 33, Loss: 19.8459\n",
      "Epoch 34, Loss: 19.2603\n",
      "Epoch 35, Loss: 21.2061\n",
      "Epoch 36, Loss: 18.1263\n",
      "Epoch 37, Loss: 19.0078\n",
      "Epoch 38, Loss: 18.3582\n",
      "Epoch 39, Loss: 17.0653\n",
      "Epoch 40, Loss: 18.1173\n",
      "Epoch 41, Loss: 18.9770\n",
      "Epoch 42, Loss: 17.4627\n",
      "Epoch 43, Loss: 19.5778\n",
      "Epoch 44, Loss: 17.6466\n",
      "Epoch 45, Loss: 17.1456\n",
      "Epoch 46, Loss: 17.8244\n",
      "Epoch 47, Loss: 17.9766\n",
      "Epoch 48, Loss: 16.9566\n",
      "Epoch 49, Loss: 17.5356\n"
     ]
    },
    {
     "data": {
      "text/html": [],
      "text/plain": [
       "<IPython.core.display.HTML object>"
      ]
     },
     "metadata": {},
     "output_type": "display_data"
    },
    {
     "data": {
      "text/html": [
       "<br>    <style><br>        .wandb-row {<br>            display: flex;<br>            flex-direction: row;<br>            flex-wrap: wrap;<br>            justify-content: flex-start;<br>            width: 100%;<br>        }<br>        .wandb-col {<br>            display: flex;<br>            flex-direction: column;<br>            flex-basis: 100%;<br>            flex: 1;<br>            padding: 10px;<br>        }<br>    </style><br><div class=\"wandb-row\"><div class=\"wandb-col\"><h3>Run history:</h3><br/><table class=\"wandb\"><tr><td>emissions</td><td>▁▁▁▁▁▁▁▁▁▁▂▂▂▂▂▂▂▂▃▃▃▃▃▄▄▄▄▄▅▅▅▆▆▆▆▇▇▇▇█</td></tr><tr><td>train_loss</td><td>███▇▆▅▄▄▄▄▃▄▃▃▃▃▂▂▂▂▂▂▂▂▂▁▂▂▁▂▁▁▁▁▁▂▁▁▁▁</td></tr></table><br/></div><div class=\"wandb-col\"><h3>Run summary:</h3><br/><table class=\"wandb\"><tr><td>emissions</td><td>0.0095</td></tr><tr><td>train_loss</td><td>17.53562</td></tr></table><br/></div></div>"
      ],
      "text/plain": [
       "<IPython.core.display.HTML object>"
      ]
     },
     "metadata": {},
     "output_type": "display_data"
    },
    {
     "data": {
      "text/html": [
       " View run <strong style=\"color:#cdcd00\">qnn_8_qubits_5_layers</strong> at: <a href='https://wandb.ai/d_smit/pasqal-challenge/runs/phoow39w' target=\"_blank\">https://wandb.ai/d_smit/pasqal-challenge/runs/phoow39w</a><br> View project at: <a href='https://wandb.ai/d_smit/pasqal-challenge' target=\"_blank\">https://wandb.ai/d_smit/pasqal-challenge</a><br>Synced 5 W&B file(s), 0 media file(s), 0 artifact file(s) and 0 other file(s)"
      ],
      "text/plain": [
       "<IPython.core.display.HTML object>"
      ]
     },
     "metadata": {},
     "output_type": "display_data"
    },
    {
     "data": {
      "text/html": [
       "Find logs at: <code>./wandb/run-20250309_211039-phoow39w/logs</code>"
      ],
      "text/plain": [
       "<IPython.core.display.HTML object>"
      ]
     },
     "metadata": {},
     "output_type": "display_data"
    },
    {
     "name": "stdout",
     "output_type": "stream",
     "text": [
      "[10.59520569  7.88539208] [9. 5.]\n",
      "MAPE: 0.6398422061239651\n"
     ]
    },
    {
     "data": {
      "text/html": [
       "Tracking run with wandb version 0.19.6"
      ],
      "text/plain": [
       "<IPython.core.display.HTML object>"
      ]
     },
     "metadata": {},
     "output_type": "display_data"
    },
    {
     "data": {
      "text/html": [
       "Run data is saved locally in <code>/Users/davidsmith/projects/opf/eda/wandb/run-20250309_211250-gz0zh59r</code>"
      ],
      "text/plain": [
       "<IPython.core.display.HTML object>"
      ]
     },
     "metadata": {},
     "output_type": "display_data"
    },
    {
     "data": {
      "text/html": [
       "Syncing run <strong><a href='https://wandb.ai/d_smit/pasqal-challenge/runs/gz0zh59r' target=\"_blank\">qnn_10_qubits_5_layers</a></strong> to <a href='https://wandb.ai/d_smit/pasqal-challenge' target=\"_blank\">Weights & Biases</a> (<a href='https://wandb.me/developer-guide' target=\"_blank\">docs</a>)<br>"
      ],
      "text/plain": [
       "<IPython.core.display.HTML object>"
      ]
     },
     "metadata": {},
     "output_type": "display_data"
    },
    {
     "data": {
      "text/html": [
       " View project at <a href='https://wandb.ai/d_smit/pasqal-challenge' target=\"_blank\">https://wandb.ai/d_smit/pasqal-challenge</a>"
      ],
      "text/plain": [
       "<IPython.core.display.HTML object>"
      ]
     },
     "metadata": {},
     "output_type": "display_data"
    },
    {
     "data": {
      "text/html": [
       " View run at <a href='https://wandb.ai/d_smit/pasqal-challenge/runs/gz0zh59r' target=\"_blank\">https://wandb.ai/d_smit/pasqal-challenge/runs/gz0zh59r</a>"
      ],
      "text/plain": [
       "<IPython.core.display.HTML object>"
      ]
     },
     "metadata": {},
     "output_type": "display_data"
    },
    {
     "name": "stdout",
     "output_type": "stream",
     "text": [
      "Epoch 0, Loss: 50.4278\n",
      "Epoch 1, Loss: 46.3920\n",
      "Epoch 2, Loss: 44.7780\n",
      "Epoch 3, Loss: 40.7100\n",
      "Epoch 4, Loss: 38.2667\n",
      "Epoch 5, Loss: 37.5672\n",
      "Epoch 6, Loss: 33.9678\n",
      "Epoch 7, Loss: 31.4005\n",
      "Epoch 8, Loss: 28.8552\n",
      "Epoch 9, Loss: 32.8093\n",
      "Epoch 10, Loss: 28.2005\n",
      "Epoch 11, Loss: 27.9129\n",
      "Epoch 12, Loss: 25.2045\n",
      "Epoch 13, Loss: 26.6646\n",
      "Epoch 14, Loss: 24.7305\n",
      "Epoch 15, Loss: 23.0436\n",
      "Epoch 16, Loss: 24.5007\n",
      "Epoch 17, Loss: 23.0385\n",
      "Epoch 18, Loss: 21.7868\n",
      "Epoch 19, Loss: 21.7307\n",
      "Epoch 20, Loss: 19.9978\n",
      "Epoch 21, Loss: 22.4646\n",
      "Epoch 22, Loss: 21.5517\n",
      "Epoch 23, Loss: 21.2047\n",
      "Epoch 24, Loss: 20.5908\n",
      "Epoch 25, Loss: 20.7205\n",
      "Epoch 26, Loss: 20.9659\n",
      "Epoch 27, Loss: 20.8215\n",
      "Epoch 28, Loss: 19.1094\n",
      "Epoch 29, Loss: 19.9725\n",
      "Epoch 30, Loss: 20.6076\n",
      "Epoch 31, Loss: 21.1688\n",
      "Epoch 32, Loss: 20.1541\n",
      "Epoch 33, Loss: 19.3698\n",
      "Epoch 34, Loss: 19.4032\n",
      "Epoch 35, Loss: 18.3316\n",
      "Epoch 36, Loss: 18.0645\n",
      "Epoch 37, Loss: 18.8709\n",
      "Epoch 38, Loss: 18.4723\n",
      "Epoch 39, Loss: 16.1616\n",
      "Epoch 40, Loss: 17.9921\n",
      "Epoch 41, Loss: 16.8551\n",
      "Epoch 42, Loss: 15.8924\n",
      "Epoch 43, Loss: 16.4032\n",
      "Epoch 44, Loss: 17.3059\n",
      "Epoch 45, Loss: 17.3408\n",
      "Epoch 46, Loss: 16.2624\n",
      "Epoch 47, Loss: 15.6915\n",
      "Epoch 48, Loss: 14.9994\n",
      "Epoch 49, Loss: 15.8803\n"
     ]
    },
    {
     "data": {
      "text/html": [],
      "text/plain": [
       "<IPython.core.display.HTML object>"
      ]
     },
     "metadata": {},
     "output_type": "display_data"
    },
    {
     "data": {
      "text/html": [
       "<br>    <style><br>        .wandb-row {<br>            display: flex;<br>            flex-direction: row;<br>            flex-wrap: wrap;<br>            justify-content: flex-start;<br>            width: 100%;<br>        }<br>        .wandb-col {<br>            display: flex;<br>            flex-direction: column;<br>            flex-basis: 100%;<br>            flex: 1;<br>            padding: 10px;<br>        }<br>    </style><br><div class=\"wandb-row\"><div class=\"wandb-col\"><h3>Run history:</h3><br/><table class=\"wandb\"><tr><td>emissions</td><td>▁▁▁▁▁▁▁▁▁▂▂▂▂▂▂▂▂▃▃▃▃▃▃▄▄▄▄▄▅▅▅▅▆▆▆▇▇▇▇█</td></tr><tr><td>train_loss</td><td>██▇▆▆▅▄▅▄▄▄▃▃▃▃▂▂▃▂▂▂▂▂▂▂▂▂▂▂▂▂▂▁▂▁▁▁▁▁▁</td></tr></table><br/></div><div class=\"wandb-col\"><h3>Run summary:</h3><br/><table class=\"wandb\"><tr><td>emissions</td><td>0.02181</td></tr><tr><td>train_loss</td><td>15.88025</td></tr></table><br/></div></div>"
      ],
      "text/plain": [
       "<IPython.core.display.HTML object>"
      ]
     },
     "metadata": {},
     "output_type": "display_data"
    },
    {
     "data": {
      "text/html": [
       " View run <strong style=\"color:#cdcd00\">qnn_10_qubits_5_layers</strong> at: <a href='https://wandb.ai/d_smit/pasqal-challenge/runs/gz0zh59r' target=\"_blank\">https://wandb.ai/d_smit/pasqal-challenge/runs/gz0zh59r</a><br> View project at: <a href='https://wandb.ai/d_smit/pasqal-challenge' target=\"_blank\">https://wandb.ai/d_smit/pasqal-challenge</a><br>Synced 5 W&B file(s), 0 media file(s), 0 artifact file(s) and 0 other file(s)"
      ],
      "text/plain": [
       "<IPython.core.display.HTML object>"
      ]
     },
     "metadata": {},
     "output_type": "display_data"
    },
    {
     "data": {
      "text/html": [
       "Find logs at: <code>./wandb/run-20250309_211250-gz0zh59r/logs</code>"
      ],
      "text/plain": [
       "<IPython.core.display.HTML object>"
      ]
     },
     "metadata": {},
     "output_type": "display_data"
    },
    {
     "name": "stdout",
     "output_type": "stream",
     "text": [
      "[9.80948428 6.8747956 ] [9. 5.]\n",
      "MAPE: 0.6214287287087503\n"
     ]
    },
    {
     "data": {
      "text/plain": [
       "{'12_qubits': {'name': 'qnn_12',\n",
       "  'mape': 0.579,\n",
       "  'mae': 3.657,\n",
       "  'loss': [52.21581479859117,\n",
       "   46.56104137906445,\n",
       "   43.17489878217029,\n",
       "   39.525163715179445,\n",
       "   37.44923351922419,\n",
       "   31.73671988075786,\n",
       "   35.44057557835311,\n",
       "   30.26535884633023,\n",
       "   31.73572700025325,\n",
       "   28.405988583654768,\n",
       "   26.880910507550684,\n",
       "   26.72831750109425,\n",
       "   24.254586823573504,\n",
       "   25.483186126579934,\n",
       "   24.313236256254413,\n",
       "   21.974974476462737,\n",
       "   22.43948869716633,\n",
       "   24.05899593906512,\n",
       "   22.53189410109361,\n",
       "   20.919405300643763,\n",
       "   20.478366000589265,\n",
       "   19.985573712014233,\n",
       "   19.81926321872946,\n",
       "   20.644983959134397,\n",
       "   21.513317470855466,\n",
       "   19.598507396709863,\n",
       "   20.985632034222625,\n",
       "   18.56309243289617,\n",
       "   19.19688405723216,\n",
       "   18.7793418824093,\n",
       "   17.59107122673479,\n",
       "   18.372494034685523,\n",
       "   18.333794336497917,\n",
       "   16.65024291467701,\n",
       "   15.877857642138947,\n",
       "   17.4103470533463,\n",
       "   15.195853740289529,\n",
       "   14.979402346865186,\n",
       "   15.129242078222397,\n",
       "   14.396062818018201,\n",
       "   13.454992508900556,\n",
       "   15.037007179745956,\n",
       "   14.22023956253747,\n",
       "   14.11107564967199,\n",
       "   14.209028726619,\n",
       "   14.445489995884081,\n",
       "   13.285097711521693,\n",
       "   14.229452072012949,\n",
       "   13.739043515067875,\n",
       "   12.227650006735844],\n",
       "  'emissions': 0.08759372686328218},\n",
       " '4_qubits': {'name': 'qnn_12',\n",
       "  'mape': 1.07,\n",
       "  'mae': 4.762,\n",
       "  'loss': [50.89203288574692,\n",
       "   49.01836611741821,\n",
       "   43.69905199517721,\n",
       "   42.71099163304663,\n",
       "   41.67953186502308,\n",
       "   36.14264404036433,\n",
       "   35.37811643733142,\n",
       "   29.9064381999561,\n",
       "   31.205565102853537,\n",
       "   29.55846907166706,\n",
       "   26.24358122364657,\n",
       "   29.36456603606166,\n",
       "   25.062649480285824,\n",
       "   24.95226171316399,\n",
       "   26.48852814056897,\n",
       "   24.1147276478096,\n",
       "   23.873478944684646,\n",
       "   23.433239879048337,\n",
       "   24.471825000994087,\n",
       "   22.336905635716167,\n",
       "   23.91939171142944,\n",
       "   23.475590488910733,\n",
       "   22.246132863551864,\n",
       "   21.962681873206193,\n",
       "   24.157067669627057,\n",
       "   22.52173023312926,\n",
       "   21.002080716552044,\n",
       "   21.735808070023705,\n",
       "   19.734590452828122,\n",
       "   19.044444915347544,\n",
       "   22.804968664405806,\n",
       "   20.095495053896204,\n",
       "   22.173521441590903,\n",
       "   20.162931668088934,\n",
       "   20.533379271900102,\n",
       "   21.285188491232827,\n",
       "   20.427901998543238,\n",
       "   20.98952675493969,\n",
       "   19.73367330083347,\n",
       "   19.595160533500522,\n",
       "   18.26956805907159,\n",
       "   19.20661993658157,\n",
       "   19.815903359304013,\n",
       "   18.85941069038367,\n",
       "   20.467746383034964,\n",
       "   19.721415742492834,\n",
       "   20.542822746183536,\n",
       "   21.99435189907524,\n",
       "   20.56476093917726,\n",
       "   20.364239106603787],\n",
       "  'emissions': 0.002158025255210493},\n",
       " '8_qubits': {'name': 'qnn_12',\n",
       "  'mape': 0.64,\n",
       "  'mae': 4.385,\n",
       "  'loss': [49.52144957866174,\n",
       "   48.67569850224266,\n",
       "   47.718415464593456,\n",
       "   42.827289486243274,\n",
       "   42.099699040209956,\n",
       "   37.2617148836053,\n",
       "   35.98870790759481,\n",
       "   32.61818032496564,\n",
       "   32.40959213286473,\n",
       "   31.11666214882282,\n",
       "   29.291209752243734,\n",
       "   27.974679444975752,\n",
       "   26.5303299433029,\n",
       "   28.997348058535305,\n",
       "   25.983806673045763,\n",
       "   25.234168960573655,\n",
       "   25.312706630039326,\n",
       "   25.4687956708372,\n",
       "   25.302381511696467,\n",
       "   22.546004693248516,\n",
       "   21.98066397333019,\n",
       "   23.366755756907388,\n",
       "   20.67348505044594,\n",
       "   21.964261827296266,\n",
       "   21.02689562910239,\n",
       "   20.57851284271945,\n",
       "   20.801498367010478,\n",
       "   21.842421173081842,\n",
       "   21.753821814751344,\n",
       "   19.12658893742214,\n",
       "   20.748962226517815,\n",
       "   18.98348673619677,\n",
       "   20.847017961389266,\n",
       "   19.845855216965393,\n",
       "   19.260348071524966,\n",
       "   21.20614883067777,\n",
       "   18.126306257980303,\n",
       "   19.007816715728598,\n",
       "   18.358197781018763,\n",
       "   17.065282512209304,\n",
       "   18.117286270363323,\n",
       "   18.976979949818716,\n",
       "   17.462734075381647,\n",
       "   19.577841358381857,\n",
       "   17.64660995284942,\n",
       "   17.145602878836506,\n",
       "   17.824428917987433,\n",
       "   17.976631306117987,\n",
       "   16.956607980614834,\n",
       "   17.535616050586995],\n",
       "  'emissions': 0.009499224892816018},\n",
       " '10_qubits': {'name': 'qnn_12',\n",
       "  'mape': 0.621,\n",
       "  'mae': 4.005,\n",
       "  'loss': [50.427770337997316,\n",
       "   46.39197073807141,\n",
       "   44.77802594102517,\n",
       "   40.71003302757872,\n",
       "   38.26672333887188,\n",
       "   37.56715978035962,\n",
       "   33.967806666229855,\n",
       "   31.400527350146344,\n",
       "   28.85520857235949,\n",
       "   32.809341117559875,\n",
       "   28.200508912395524,\n",
       "   27.912934258243016,\n",
       "   25.204456971093972,\n",
       "   26.66455363696272,\n",
       "   24.73045955722121,\n",
       "   23.043585892302307,\n",
       "   24.5006871457701,\n",
       "   23.03848264238293,\n",
       "   21.78683724530397,\n",
       "   21.73069088259034,\n",
       "   19.997807267386236,\n",
       "   22.464593929347522,\n",
       "   21.55172969774462,\n",
       "   21.204679228951694,\n",
       "   20.59083636393519,\n",
       "   20.72050559496822,\n",
       "   20.965890259642684,\n",
       "   20.821534077580086,\n",
       "   19.109446599627674,\n",
       "   19.97248429647382,\n",
       "   20.6076098974619,\n",
       "   21.168811497210463,\n",
       "   20.15414784188762,\n",
       "   19.369786936207223,\n",
       "   19.403246116024487,\n",
       "   18.331623030175685,\n",
       "   18.064461833141,\n",
       "   18.87088495414414,\n",
       "   18.47232420245661,\n",
       "   16.16156751921828,\n",
       "   17.992097921588524,\n",
       "   16.855097740197298,\n",
       "   15.892437440629775,\n",
       "   16.403169180280283,\n",
       "   17.305858925241495,\n",
       "   17.340796864110402,\n",
       "   16.262399016666013,\n",
       "   15.691524706163255,\n",
       "   14.999386110872472,\n",
       "   15.880253231644652],\n",
       "  'emissions': 0.021812269909729034}}"
      ]
     },
     "metadata": {},
     "output_type": "display_data"
    }
   ],
   "source": [
    "def one_run(num_qubits=8, epochs=3):\n",
    "    qnn = build_model(num_layers=5, num_qubits=num_qubits)\n",
    "    qnn_model, losses, emissions = train(\n",
    "        model=qnn, epochs=epochs, num_qubits=num_qubits, num_layers=5\n",
    "    )\n",
    "    perf = eval_model(qnn_model)\n",
    "    perf[\"loss\"] = losses\n",
    "    perf[\"emissions\"] = emissions\n",
    "    return perf\n",
    "\n",
    "\n",
    "experiment = {}\n",
    "qubits = [12, 4, 8, 10]\n",
    "for qubit in qubits:\n",
    "    perf = one_run(num_qubits=qubit, epochs=50)\n",
    "    with open(f\"{qubit}_qnn.json\", \"w\") as f:\n",
    "        import json\n",
    "        json.dump(perf, f)\n",
    "    experiment[f\"{qubit}_qubits\"] = perf\n",
    "\n",
    "display(experiment)"
   ]
  },
  {
   "cell_type": "code",
   "execution_count": null,
   "metadata": {},
   "outputs": [],
   "source": [
    "perf"
   ]
  },
  {
   "cell_type": "code",
   "execution_count": null,
   "metadata": {},
   "outputs": [],
   "source": [
    "with open(\"experiment_results_1.json\", \"wb\") as f:\n",
    "    import json\n",
    "    json.dump(experiment, f)"
   ]
  },
  {
   "cell_type": "markdown",
   "metadata": {},
   "source": [
    "### 4) Classical Comparison "
   ]
  },
  {
   "cell_type": "code",
   "execution_count": 88,
   "metadata": {},
   "outputs": [],
   "source": [
    "import torch.nn as nn\n",
    "import torch.nn.functional as F\n",
    "\n",
    "\n",
    "class SimpleMLP(nn.Module):\n",
    "    def __init__(self, in_features, hidden_dim=4, out_features=9):\n",
    "        \"\"\"\n",
    "        Basic MLP for comparison with a QNN:\n",
    "          - input -> hidden_dim -> ReLU -> out_features\n",
    "        \"\"\"\n",
    "        super().__init__()\n",
    "        self.fc1 = nn.Linear(in_features, hidden_dim)\n",
    "        self.fc2 = nn.Linear(hidden_dim, out_features)\n",
    "\n",
    "    def forward(self, x):\n",
    "        x = self.fc1(x)\n",
    "        x = F.relu(x)\n",
    "        x = self.fc2(x)\n",
    "        return x"
   ]
  },
  {
   "cell_type": "code",
   "execution_count": 90,
   "metadata": {},
   "outputs": [
    {
     "name": "stdout",
     "output_type": "stream",
     "text": [
      "Number of MLP trainable parameters: 283\n"
     ]
    },
    {
     "data": {
      "text/html": [
       "Tracking run with wandb version 0.19.6"
      ],
      "text/plain": [
       "<IPython.core.display.HTML object>"
      ]
     },
     "metadata": {},
     "output_type": "display_data"
    },
    {
     "data": {
      "text/html": [
       "Run data is saved locally in <code>/Users/davidsmith/projects/opf/eda/wandb/run-20250309_221053-cgvaedjx</code>"
      ],
      "text/plain": [
       "<IPython.core.display.HTML object>"
      ]
     },
     "metadata": {},
     "output_type": "display_data"
    },
    {
     "data": {
      "text/html": [
       "Syncing run <strong><a href='https://wandb.ai/d_smit/pasqal-challenge/runs/cgvaedjx' target=\"_blank\">qnn_8_qubits_8_layers</a></strong> to <a href='https://wandb.ai/d_smit/pasqal-challenge' target=\"_blank\">Weights & Biases</a> (<a href='https://wandb.me/developer-guide' target=\"_blank\">docs</a>)<br>"
      ],
      "text/plain": [
       "<IPython.core.display.HTML object>"
      ]
     },
     "metadata": {},
     "output_type": "display_data"
    },
    {
     "data": {
      "text/html": [
       " View project at <a href='https://wandb.ai/d_smit/pasqal-challenge' target=\"_blank\">https://wandb.ai/d_smit/pasqal-challenge</a>"
      ],
      "text/plain": [
       "<IPython.core.display.HTML object>"
      ]
     },
     "metadata": {},
     "output_type": "display_data"
    },
    {
     "data": {
      "text/html": [
       " View run at <a href='https://wandb.ai/d_smit/pasqal-challenge/runs/cgvaedjx' target=\"_blank\">https://wandb.ai/d_smit/pasqal-challenge/runs/cgvaedjx</a>"
      ],
      "text/plain": [
       "<IPython.core.display.HTML object>"
      ]
     },
     "metadata": {},
     "output_type": "display_data"
    },
    {
     "name": "stdout",
     "output_type": "stream",
     "text": [
      "Epoch 0, Loss: 34.1932\n",
      "Epoch 1, Loss: 23.3965\n",
      "Epoch 2, Loss: 18.9873\n",
      "Epoch 3, Loss: 14.3114\n",
      "Epoch 4, Loss: 12.8413\n",
      "Epoch 5, Loss: 10.4934\n",
      "Epoch 6, Loss: 8.5939\n",
      "Epoch 7, Loss: 7.7496\n",
      "Epoch 8, Loss: 6.1796\n",
      "Epoch 9, Loss: 5.7064\n",
      "Epoch 10, Loss: 4.9396\n",
      "Epoch 11, Loss: 4.8654\n",
      "Epoch 12, Loss: 4.3202\n",
      "Epoch 13, Loss: 3.6469\n",
      "Epoch 14, Loss: 3.8821\n",
      "Epoch 15, Loss: 3.8543\n",
      "Epoch 16, Loss: 3.7126\n",
      "Epoch 17, Loss: 3.2977\n",
      "Epoch 18, Loss: 3.3356\n",
      "Epoch 19, Loss: 3.4092\n",
      "Epoch 20, Loss: 3.3531\n",
      "Epoch 21, Loss: 2.8727\n",
      "Epoch 22, Loss: 2.9361\n",
      "Epoch 23, Loss: 3.2614\n",
      "Epoch 24, Loss: 3.1625\n",
      "Epoch 25, Loss: 3.1678\n",
      "Epoch 26, Loss: 2.6685\n",
      "Epoch 27, Loss: 2.8361\n",
      "Epoch 28, Loss: 2.8965\n",
      "Epoch 29, Loss: 2.5791\n",
      "Epoch 30, Loss: 2.6157\n",
      "Epoch 31, Loss: 2.7178\n",
      "Epoch 32, Loss: 2.4089\n",
      "Epoch 33, Loss: 2.5985\n",
      "Epoch 34, Loss: 2.5265\n",
      "Epoch 35, Loss: 2.2935\n",
      "Epoch 36, Loss: 2.3980\n",
      "Epoch 37, Loss: 2.2316\n",
      "Epoch 38, Loss: 2.1754\n",
      "Epoch 39, Loss: 2.3169\n",
      "Epoch 40, Loss: 2.2398\n",
      "Epoch 41, Loss: 2.0294\n",
      "Epoch 42, Loss: 2.1561\n",
      "Epoch 43, Loss: 2.1109\n",
      "Epoch 44, Loss: 2.0122\n",
      "Epoch 45, Loss: 2.3047\n",
      "Epoch 46, Loss: 2.0978\n",
      "Epoch 47, Loss: 1.8696\n",
      "Epoch 48, Loss: 1.8510\n",
      "Epoch 49, Loss: 1.7989\n"
     ]
    },
    {
     "data": {
      "text/html": [],
      "text/plain": [
       "<IPython.core.display.HTML object>"
      ]
     },
     "metadata": {},
     "output_type": "display_data"
    },
    {
     "data": {
      "text/html": [
       "<br>    <style><br>        .wandb-row {<br>            display: flex;<br>            flex-direction: row;<br>            flex-wrap: wrap;<br>            justify-content: flex-start;<br>            width: 100%;<br>        }<br>        .wandb-col {<br>            display: flex;<br>            flex-direction: column;<br>            flex-basis: 100%;<br>            flex: 1;<br>            padding: 10px;<br>        }<br>    </style><br><div class=\"wandb-row\"><div class=\"wandb-col\"><h3>Run history:</h3><br/><table class=\"wandb\"><tr><td>emissions</td><td>▁▁▁▁▁▁▁▁▁▁▂▂▂▂▂▂▂▂▂▃▃▃▃▃▄▄▄▄▅▅▅▅▆▆▆▇▇▇▇█</td></tr><tr><td>train_loss</td><td>█▆▅▄▃▂▂▂▂▂▂▁▁▁▁▁▁▁▁▁▁▁▁▁▁▁▁▁▁▁▁▁▁▁▁▁▁▁▁▁</td></tr></table><br/></div><div class=\"wandb-col\"><h3>Run summary:</h3><br/><table class=\"wandb\"><tr><td>emissions</td><td>0.0003</td></tr><tr><td>train_loss</td><td>1.79888</td></tr></table><br/></div></div>"
      ],
      "text/plain": [
       "<IPython.core.display.HTML object>"
      ]
     },
     "metadata": {},
     "output_type": "display_data"
    },
    {
     "data": {
      "text/html": [
       " View run <strong style=\"color:#cdcd00\">qnn_8_qubits_8_layers</strong> at: <a href='https://wandb.ai/d_smit/pasqal-challenge/runs/cgvaedjx' target=\"_blank\">https://wandb.ai/d_smit/pasqal-challenge/runs/cgvaedjx</a><br> View project at: <a href='https://wandb.ai/d_smit/pasqal-challenge' target=\"_blank\">https://wandb.ai/d_smit/pasqal-challenge</a><br>Synced 5 W&B file(s), 0 media file(s), 0 artifact file(s) and 0 other file(s)"
      ],
      "text/plain": [
       "<IPython.core.display.HTML object>"
      ]
     },
     "metadata": {},
     "output_type": "display_data"
    },
    {
     "data": {
      "text/html": [
       "Find logs at: <code>./wandb/run-20250309_221053-cgvaedjx/logs</code>"
      ],
      "text/plain": [
       "<IPython.core.display.HTML object>"
      ]
     },
     "metadata": {},
     "output_type": "display_data"
    }
   ],
   "source": [
    "nn_model = SimpleMLP(in_features=NUM_FEATURES, hidden_dim=20, out_features=NUM_TARGETS)\n",
    "total_params = sum(p.numel() for p in nn_model.parameters() if p.requires_grad)\n",
    "print(\"Number of MLP trainable parameters:\", total_params)\n",
    "model_classical, losses_classical, _ = train(nn_model, epochs=50)"
   ]
  },
  {
   "cell_type": "code",
   "execution_count": null,
   "metadata": {},
   "outputs": [],
   "source": [
    "for dim in [10, 20, 30, 45]:\n",
    "    nn_model = SimpleMLP(\n",
    "        in_features=NUM_FEATURES, hidden_dim=dim, out_features=NUM_TARGETS\n",
    "    )\n",
    "    total_params = sum(p.numel() for p in nn_model.parameters() if p.requires_grad)\n",
    "    print(\"Number of MLP trainable parameters:\", total_params)\n",
    "    model_classical, losses_classical, emissions = train(\n",
    "        nn_model, epochs=100, name=\"nn\", num_qubits=total_params\n",
    "    )"
   ]
  },
  {
   "cell_type": "code",
   "execution_count": null,
   "metadata": {},
   "outputs": [],
   "source": [
    "plot_training_performance(losses_classical, title=\"Classical\")"
   ]
  },
  {
   "cell_type": "code",
   "execution_count": 91,
   "metadata": {},
   "outputs": [
    {
     "data": {
      "image/png": "[encoded data removed]",
      "text/plain": [
       "<Figure size 800x600 with 1 Axes>"
      ]
     },
     "metadata": {},
     "output_type": "display_data"
    }
   ],
   "source": [
    "def plot_both(losses: list[list[float]]):\n",
    "    # Get floats from tensor objects.\n",
    "    _ = plt.figure(figsize=(8, 6))\n",
    "    qnn_losses, nn_losses = losses\n",
    "    plt.rcParams[\"lines.markersize\"] = 1\n",
    "    plt.plot(qnn_losses, marker=\"o\", label=\"QNN Loss\")\n",
    "    plt.plot(nn_losses, marker=\"o\", label=\"NN Loss\")\n",
    "    plt.xlabel(\"Epoch\")\n",
    "    plt.ylabel(\"Loss\")\n",
    "    plt.title(f\"Training Loss Over {len(losses[0])} Epochs\")\n",
    "    plt.grid(True)\n",
    "    plt.legend()\n",
    "    plt.show()\n",
    "\n",
    "\n",
    "plot_both([experiment[\"12_qubits\"][\"loss\"], losses_classical])"
   ]
  },
  {
   "cell_type": "code",
   "execution_count": 79,
   "metadata": {},
   "outputs": [
    {
     "data": {
      "image/png": "[encoded data removed]",
      "text/plain": [
       "<Figure size 800x600 with 1 Axes>"
      ]
     },
     "metadata": {},
     "output_type": "display_data"
    }
   ],
   "source": [
    "def plot_all(experiment_data: dict):\n",
    "    _ = plt.figure(figsize=(8, 6))\n",
    "    plt.rcParams[\"lines.markersize\"] = 1\n",
    "    runs = experiment_data.keys()\n",
    "    for run in runs:\n",
    "        final_mape = experiment_data[run][\"mape\"]\n",
    "        loss = experiment_data[run][\"loss\"]\n",
    "        plt.plot(loss, label=run)\n",
    "    plt.xlabel(\"Epoch\")\n",
    "    plt.ylabel(\"Loss\")\n",
    "    plt.title(\"Training Loss vs Number of Qubits\")\n",
    "    plt.grid(True)\n",
    "    plt.legend()\n",
    "    plt.show()\n",
    "\n",
    "\n",
    "plot_all(experiment)"
   ]
  },
  {
   "cell_type": "code",
   "execution_count": 102,
   "metadata": {},
   "outputs": [
    {
     "data": {
      "text/plain": [
       "{'12_qubits': {'name': 'qnn_12',\n",
       "  'mape': 0.579,\n",
       "  'mae': 3.657,\n",
       "  'loss': [52.21581479859117,\n",
       "   46.56104137906445,\n",
       "   43.17489878217029,\n",
       "   39.525163715179445,\n",
       "   37.44923351922419,\n",
       "   31.73671988075786,\n",
       "   35.44057557835311,\n",
       "   30.26535884633023,\n",
       "   31.73572700025325,\n",
       "   28.405988583654768,\n",
       "   26.880910507550684,\n",
       "   26.72831750109425,\n",
       "   24.254586823573504,\n",
       "   25.483186126579934,\n",
       "   24.313236256254413,\n",
       "   21.974974476462737,\n",
       "   22.43948869716633,\n",
       "   24.05899593906512,\n",
       "   22.53189410109361,\n",
       "   20.919405300643763,\n",
       "   20.478366000589265,\n",
       "   19.985573712014233,\n",
       "   19.81926321872946,\n",
       "   20.644983959134397,\n",
       "   21.513317470855466,\n",
       "   19.598507396709863,\n",
       "   20.985632034222625,\n",
       "   18.56309243289617,\n",
       "   19.19688405723216,\n",
       "   18.7793418824093,\n",
       "   17.59107122673479,\n",
       "   18.372494034685523,\n",
       "   18.333794336497917,\n",
       "   16.65024291467701,\n",
       "   15.877857642138947,\n",
       "   17.4103470533463,\n",
       "   15.195853740289529,\n",
       "   14.979402346865186,\n",
       "   15.129242078222397,\n",
       "   14.396062818018201,\n",
       "   13.454992508900556,\n",
       "   15.037007179745956,\n",
       "   14.22023956253747,\n",
       "   14.11107564967199,\n",
       "   14.209028726619,\n",
       "   14.445489995884081,\n",
       "   13.285097711521693,\n",
       "   14.229452072012949,\n",
       "   13.739043515067875,\n",
       "   12.227650006735844],\n",
       "  'emissions': 0.08759372686328218},\n",
       " '4_qubits': {'name': 'qnn_12',\n",
       "  'mape': 1.07,\n",
       "  'mae': 4.762,\n",
       "  'loss': [50.89203288574692,\n",
       "   49.01836611741821,\n",
       "   43.69905199517721,\n",
       "   42.71099163304663,\n",
       "   41.67953186502308,\n",
       "   36.14264404036433,\n",
       "   35.37811643733142,\n",
       "   29.9064381999561,\n",
       "   31.205565102853537,\n",
       "   29.55846907166706,\n",
       "   26.24358122364657,\n",
       "   29.36456603606166,\n",
       "   25.062649480285824,\n",
       "   24.95226171316399,\n",
       "   26.48852814056897,\n",
       "   24.1147276478096,\n",
       "   23.873478944684646,\n",
       "   23.433239879048337,\n",
       "   24.471825000994087,\n",
       "   22.336905635716167,\n",
       "   23.91939171142944,\n",
       "   23.475590488910733,\n",
       "   22.246132863551864,\n",
       "   21.962681873206193,\n",
       "   24.157067669627057,\n",
       "   22.52173023312926,\n",
       "   21.002080716552044,\n",
       "   21.735808070023705,\n",
       "   19.734590452828122,\n",
       "   19.044444915347544,\n",
       "   22.804968664405806,\n",
       "   20.095495053896204,\n",
       "   22.173521441590903,\n",
       "   20.162931668088934,\n",
       "   20.533379271900102,\n",
       "   21.285188491232827,\n",
       "   20.427901998543238,\n",
       "   20.98952675493969,\n",
       "   19.73367330083347,\n",
       "   19.595160533500522,\n",
       "   18.26956805907159,\n",
       "   19.20661993658157,\n",
       "   19.815903359304013,\n",
       "   18.85941069038367,\n",
       "   20.467746383034964,\n",
       "   19.721415742492834,\n",
       "   20.542822746183536,\n",
       "   21.99435189907524,\n",
       "   20.56476093917726,\n",
       "   20.364239106603787],\n",
       "  'emissions': 0.002158025255210493},\n",
       " '8_qubits': {'name': 'qnn_12',\n",
       "  'mape': 0.64,\n",
       "  'mae': 4.385,\n",
       "  'loss': [49.52144957866174,\n",
       "   48.67569850224266,\n",
       "   47.718415464593456,\n",
       "   42.827289486243274,\n",
       "   42.099699040209956,\n",
       "   37.2617148836053,\n",
       "   35.98870790759481,\n",
       "   32.61818032496564,\n",
       "   32.40959213286473,\n",
       "   31.11666214882282,\n",
       "   29.291209752243734,\n",
       "   27.974679444975752,\n",
       "   26.5303299433029,\n",
       "   28.997348058535305,\n",
       "   25.983806673045763,\n",
       "   25.234168960573655,\n",
       "   25.312706630039326,\n",
       "   25.4687956708372,\n",
       "   25.302381511696467,\n",
       "   22.546004693248516,\n",
       "   21.98066397333019,\n",
       "   23.366755756907388,\n",
       "   20.67348505044594,\n",
       "   21.964261827296266,\n",
       "   21.02689562910239,\n",
       "   20.57851284271945,\n",
       "   20.801498367010478,\n",
       "   21.842421173081842,\n",
       "   21.753821814751344,\n",
       "   19.12658893742214,\n",
       "   20.748962226517815,\n",
       "   18.98348673619677,\n",
       "   20.847017961389266,\n",
       "   19.845855216965393,\n",
       "   19.260348071524966,\n",
       "   21.20614883067777,\n",
       "   18.126306257980303,\n",
       "   19.007816715728598,\n",
       "   18.358197781018763,\n",
       "   17.065282512209304,\n",
       "   18.117286270363323,\n",
       "   18.976979949818716,\n",
       "   17.462734075381647,\n",
       "   19.577841358381857,\n",
       "   17.64660995284942,\n",
       "   17.145602878836506,\n",
       "   17.824428917987433,\n",
       "   17.976631306117987,\n",
       "   16.956607980614834,\n",
       "   17.535616050586995],\n",
       "  'emissions': 0.009499224892816018},\n",
       " '10_qubits': {'name': 'qnn_12',\n",
       "  'mape': 0.621,\n",
       "  'mae': 4.005,\n",
       "  'loss': [50.427770337997316,\n",
       "   46.39197073807141,\n",
       "   44.77802594102517,\n",
       "   40.71003302757872,\n",
       "   38.26672333887188,\n",
       "   37.56715978035962,\n",
       "   33.967806666229855,\n",
       "   31.400527350146344,\n",
       "   28.85520857235949,\n",
       "   32.809341117559875,\n",
       "   28.200508912395524,\n",
       "   27.912934258243016,\n",
       "   25.204456971093972,\n",
       "   26.66455363696272,\n",
       "   24.73045955722121,\n",
       "   23.043585892302307,\n",
       "   24.5006871457701,\n",
       "   23.03848264238293,\n",
       "   21.78683724530397,\n",
       "   21.73069088259034,\n",
       "   19.997807267386236,\n",
       "   22.464593929347522,\n",
       "   21.55172969774462,\n",
       "   21.204679228951694,\n",
       "   20.59083636393519,\n",
       "   20.72050559496822,\n",
       "   20.965890259642684,\n",
       "   20.821534077580086,\n",
       "   19.109446599627674,\n",
       "   19.97248429647382,\n",
       "   20.6076098974619,\n",
       "   21.168811497210463,\n",
       "   20.15414784188762,\n",
       "   19.369786936207223,\n",
       "   19.403246116024487,\n",
       "   18.331623030175685,\n",
       "   18.064461833141,\n",
       "   18.87088495414414,\n",
       "   18.47232420245661,\n",
       "   16.16156751921828,\n",
       "   17.992097921588524,\n",
       "   16.855097740197298,\n",
       "   15.892437440629775,\n",
       "   16.403169180280283,\n",
       "   17.305858925241495,\n",
       "   17.340796864110402,\n",
       "   16.262399016666013,\n",
       "   15.691524706163255,\n",
       "   14.999386110872472,\n",
       "   15.880253231644652],\n",
       "  'emissions': 0.021812269909729034}}"
      ]
     },
     "execution_count": 102,
     "metadata": {},
     "output_type": "execute_result"
    }
   ],
   "source": [
    "experiment"
   ]
  },
  {
   "cell_type": "code",
   "execution_count": 112,
   "metadata": {},
   "outputs": [
    {
     "data": {
      "image/png": "[encoded data removed]",
      "text/plain": [
       "<Figure size 640x480 with 1 Axes>"
      ]
     },
     "metadata": {},
     "output_type": "display_data"
    }
   ],
   "source": [
    "def plot_emissions(experiment_data: dict):\n",
    "    runs = list(experiment_data.keys())\n",
    "    maximum_observed_classical_co2_from_wandb = 0.001\n",
    "    emissions = [experiment_data[run][\"emissions\"] for run in runs]\n",
    "\n",
    "    emissions = emissions[1:] + [emissions[0]]  # bad code but we ran out of time   \n",
    "    runs = runs[1:] + [runs[0]] \n",
    "\n",
    "    plt.bar(runs, emissions)\n",
    "    plt.axhline(y=maximum_observed_classical_co2_from_wandb, color='orange', linestyle='--', label='Classical')\n",
    "    plt.legend()\n",
    "    plt.xlabel(\"Qubit Count\")\n",
    "    plt.ylabel(\"Emissions (kg CO₂eq)\")\n",
    "    plt.title(\"Emissions per QNN Run in kg of CO2 equivalent (kg CO₂eq)\")\n",
    "\n",
    "    plt.show()\n",
    "\n",
    "\n",
    "plot_emissions(experiment)"
   ]
  },
  {
   "cell_type": "code",
   "execution_count": 81,
   "metadata": {},
   "outputs": [
    {
     "data": {
      "image/png": "[encoded data removed]",
      "text/plain": [
       "<Figure size 640x480 with 1 Axes>"
      ]
     },
     "metadata": {},
     "output_type": "display_data"
    }
   ],
   "source": [
    "power_data_from_wandb = {\n",
    "    \"4_qubits\": 32,\n",
    "    \"8_qubits\": 33,\n",
    "    \"10_qubits\": 44,\n",
    "    \"12_qubits\": 150,\n",
    "}\n",
    "\n",
    "\n",
    "def plot_energy_usage(experiment_data: dict):\n",
    "    runs = list(experiment_data.keys())\n",
    "    energy_usage = experiment_data.values()\n",
    "\n",
    "    plt.bar(runs, energy_usage)\n",
    "    plt.xlabel(\"Qubit Count\")\n",
    "    plt.ylabel(\"Power (W)\")\n",
    "    plt.title(\"Power Usage per QNN Run\")\n",
    "\n",
    "    # Display the plot\n",
    "    plt.show()\n",
    "\n",
    "\n",
    "plot_energy_usage(power_data_from_wandb)"
   ]
  },
  {
   "cell_type": "code",
   "execution_count": 83,
   "metadata": {},
   "outputs": [
    {
     "name": "stdout",
     "output_type": "stream",
     "text": [
      "Fitted a=0.0000, b=5.4753, c=0.0316\n"
     ]
    },
    {
     "data": {
      "image/png": "[encoded data removed]",
      "text/plain": [
       "<Figure size 700x500 with 1 Axes>"
      ]
     },
     "metadata": {},
     "output_type": "display_data"
    }
   ],
   "source": [
    "def plot_projected_perf(experiment_data: dict):\n",
    "\n",
    "    run_data = experiment.values()\n",
    "\n",
    "    x_qubits = np.array([4, 8, 10, 12], dtype=float)\n",
    "    y_mae = np.array(sorted([run[\"mae\"] for run in run_data], reverse=True), dtype=float)\n",
    "\n",
    "\n",
    "    def positive_exp_decay(x, log_a, log_b, log_c):\n",
    "        a = np.exp(log_a)\n",
    "        b = np.exp(log_b)\n",
    "        c = np.exp(log_c)\n",
    "        return a + b * np.exp(-c * x)\n",
    "\n",
    "    p0 = [np.log(0.5), np.log(0.2), np.log(0.1)]\n",
    "    params, cov = curve_fit(positive_exp_decay, x_qubits, y_mae, p0=p0)\n",
    "\n",
    "    log_a_fit, log_b_fit, log_c_fit = params\n",
    "    a_fit = np.exp(log_a_fit)\n",
    "    b_fit = np.exp(log_b_fit)\n",
    "    c_fit = np.exp(log_c_fit)\n",
    "\n",
    "    print(f\"Fitted a={a_fit:.4f}, b={b_fit:.4f}, c={c_fit:.4f}\")\n",
    "\n",
    "    x_range = np.linspace(x_qubits.min(), 200, 300)\n",
    "    y_fit   = positive_exp_decay(x_range, log_a_fit, log_b_fit, log_c_fit)\n",
    "\n",
    "    plt.figure(figsize=(7,5))\n",
    "\n",
    "    plt.scatter(x_qubits, y_mae, color='blue', marker='o', s=60,\n",
    "                label='Observed Data')\n",
    "\n",
    "    plt.plot(x_range, y_fit, color='blue', linestyle='--',\n",
    "            label='Projected Performance')\n",
    "\n",
    "    plt.xlim(0, 200)\n",
    "    plt.ylim(bottom=0)\n",
    "    plt.xlabel('Number of Qubits')\n",
    "    plt.ylabel('MAE')\n",
    "    plt.title('Projected MAE Improvement with Future Increase in Qubits')\n",
    "    plt.legend()\n",
    "    plt.tight_layout()\n",
    "    plt.show()\n",
    "\n",
    "plot_projected_perf(experiment_data=experiment)"
   ]
  }
 ],
 "metadata": {
  "kernelspec": {
   "display_name": ".venv",
   "language": "python",
   "name": "python3"
  },
  "language_info": {
   "codemirror_mode": {
    "name": "ipython",
    "version": 3
   },
   "file_extension": ".py",
   "mimetype": "text/x-python",
   "name": "python",
   "nbconvert_exporter": "python",
   "pygments_lexer": "ipython3",
   "version": "3.10.15"
  }
 },
 "nbformat": 4,
 "nbformat_minor": 2
}
